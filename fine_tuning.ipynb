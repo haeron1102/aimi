{
 "cells": [
  {
   "cell_type": "code",
   "execution_count": null,
   "id": "d15b1dac",
   "metadata": {},
   "outputs": [],
   "source": [
    "from huggingface_hub import login\n",
    "\n",
    "login()"
   ]
  },
  {
   "cell_type": "code",
   "execution_count": null,
   "id": "0a7dd98d",
   "metadata": {},
   "outputs": [],
   "source": [
    "model_path = \"model/gemma-3-1b-it\""
   ]
  },
  {
   "cell_type": "code",
   "execution_count": null,
   "id": "089e5bcd",
   "metadata": {},
   "outputs": [],
   "source": [
    "from datasets import load_dataset\n",
    "from transformers import AutoTokenizer, AutoModelForCausalLM\n",
    "\n",
    "datasets = load_dataset(\"json\", data_files = {\"train\": \"train_data.json\", \"validation\" : \"validation_data.json\"}) # datafile 가져오기\n",
    "tokenizer = AutoTokenizer.from_pretrained(model_path)\n",
    "model = AutoModelForCausalLM.from_pretrained(model_path)"
   ]
  },
  {
   "cell_type": "code",
   "execution_count": null,
   "id": "b18c0df8",
   "metadata": {},
   "outputs": [],
   "source": [
    "from transformers import Trainer, TrainingArguments\n",
    "from peft import LoraConfig, get_peft_model\n",
    "\n",
    "model_name = model_path.split(\"/\")[-1]\n",
    "\n",
    "lora_config = LoraConfig(\n",
    "    r = 8,\n",
    "    lora_alpha = 32,\n",
    "    target_modules\n",
    "     = [\"q_proj\", \"v_proj\"],\n",
    "    lora_dropout = 0.05,\n",
    "    bias = \"none\",\n",
    "    task_type = \"CAUSAL_LM\"\n",
    ")\n",
    "\n",
    "model = get_peft_model(model, lora_config)\n",
    "\n",
    "def preprocess_function(examples):\n",
    "    texts = []\n",
    "    for conv in examples[\"messages\"]:\n",
    "        # conv는 이미 리스트임\n",
    "        text = \"\\n\".join([msg[\"role\"] + \": \" + msg[\"content\"] for msg in conv])\n",
    "        texts.append(text)\n",
    "    model_inputs = tokenizer(texts, max_length=512, truncation=True, padding = True)\n",
    "    model_inputs[\"labels\"] = model_inputs[\"input_ids\"].copy()\n",
    "    return model_inputs\n",
    "\n",
    "# 4. 데이터셋에 토크나이징 적용\n",
    "tokenized_datasets = datasets.map(preprocess_function, batched=True, remove_columns=datasets[\"train\"].column_names)\n",
    "\n",
    "\n",
    "training_args = TrainingArguments(\n",
    "    f\"{model_name}_trained\",\n",
    "    eval_strategy = \"epoch\",\n",
    "    learning_rate=2e-4,\n",
    "    save_strategy=\"no\",   # epoch마다 저장\n",
    "    weight_decay=0.01,\n",
    "    push_to_hub=False,\n",
    "    num_train_epochs=20,\n",
    ")\n"
   ]
  },
  {
   "cell_type": "code",
   "execution_count": null,
   "id": "c3a9eebc",
   "metadata": {},
   "outputs": [],
   "source": [
    "trainer = Trainer(\n",
    "    model = model,\n",
    "    args = training_args,\n",
    "    train_dataset = tokenized_datasets[\"train\"],\n",
    "    eval_dataset = tokenized_datasets[\"validation\"],\n",
    ")\n",
    "\n",
    "trainer.train()"
   ]
  },
  {
   "cell_type": "code",
   "execution_count": null,
   "id": "5377cc44",
   "metadata": {},
   "outputs": [],
   "source": [
    "import math\n",
    "eval_results = trainer.evaluate()\n",
    "print(f\"Perplexity: {math.exp(eval_results['eval_loss']):.2f}\")"
   ]
  },
  {
   "cell_type": "code",
   "execution_count": null,
   "id": "c65961cd",
   "metadata": {},
   "outputs": [],
   "source": [
    "# trainer.push_to_hub()\n",
    "model.save_pretrained(\"model/trained_model\")\n",
    "tokenizer.save_pretrained(\"model/trained_model\")"
   ]
  },
  {
   "cell_type": "code",
   "execution_count": null,
   "id": "88a15598",
   "metadata": {},
   "outputs": [],
   "source": [
    "model_path = \"model/trained_model\"\n",
    "\n",
    "tokenizer = AutoTokenizer.from_pretrained(model_path)\n",
    "model = AutoModelForCausalLM.from_pretrained(model_path)\n",
    "\n",
    "text = input()\n",
    "\n",
    "messages = [\n",
    "    {\"role\" : \"user\", \"content\" : text},\n",
    "]\n",
    "\n",
    "inputs = tokenizer.apply_chat_template(\n",
    "\tmessages,\n",
    "\tadd_generation_prompt=True,\n",
    "\ttokenize=True,\n",
    "\treturn_dict=True,\n",
    "\treturn_tensors=\"pt\",\n",
    ").to(model.device)\n",
    "\n",
    "outputs = model.generate(**inputs, max_new_tokens=100)\n",
    "print(tokenizer.decode(outputs[0][inputs[\"input_ids\"].shape[-1]:]))"
   ]
  }
 ],
 "metadata": {
  "language_info": {
   "name": "python"
  }
 },
 "nbformat": 4,
 "nbformat_minor": 5
}
