{
 "cells": [
  {
   "cell_type": "code",
   "execution_count": 1,
   "id": "b8a40fb6",
   "metadata": {},
   "outputs": [
    {
     "name": "stdout",
     "output_type": "stream",
     "text": [
      "f:\\foru\\Scripts\\python.exe\n",
      "['F:\\\\Python311\\\\python311.zip', 'F:\\\\Python311\\\\DLLs', 'F:\\\\Python311\\\\Lib', 'F:\\\\Python311', 'f:\\\\foru', '', 'f:\\\\foru\\\\Lib\\\\site-packages', 'f:\\\\foru\\\\Lib\\\\site-packages\\\\win32', 'f:\\\\foru\\\\Lib\\\\site-packages\\\\win32\\\\lib', 'f:\\\\foru\\\\Lib\\\\site-packages\\\\Pythonwin']\n"
     ]
    }
   ],
   "source": [
    "import sys\n",
    "print(sys.executable)\n",
    "print(sys.path)  # python의 위치를 알기 위해서\n"
   ]
  },
  {
   "cell_type": "code",
   "execution_count": 2,
   "id": "7492f588",
   "metadata": {},
   "outputs": [
    {
     "name": "stdout",
     "output_type": "stream",
     "text": [
      "hello world\n"
     ]
    }
   ],
   "source": [
    "print(\"hello world\") # python이 잘되는지 test"
   ]
  },
  {
   "cell_type": "code",
   "execution_count": null,
   "id": "97c2fc8e",
   "metadata": {},
   "outputs": [
    {
     "name": "stderr",
     "output_type": "stream",
     "text": [
      "Fetching 10 files: 100%|██████████| 10/10 [00:00<?, ?it/s]"
     ]
    },
    {
     "name": "stdout",
     "output_type": "stream",
     "text": [
      "Model donwload at: F:/hugginggface_cache/gemma-3-1b-it\\models--google--gemma-3-1b-it\\snapshots\\dcc83ea841ab6100d6b47a070329e1ba4cf78752\n"
     ]
    },
    {
     "name": "stderr",
     "output_type": "stream",
     "text": [
      "\n"
     ]
    }
   ],
   "source": [
    "from huggingface_hub import snapshot_download\n",
    "\n",
    "model_local_path = snapshot_download(\n",
    "    repo_id = \"google/gemma-3-1b-it\",\n",
    "    token= \"\",\n",
    "    cache_dir = \"\"\n",
    ")\n",
    "\n",
    "# model_local_path = \"F:/hugginggface_cache/gemma-3-1b-it\" # 이미 다운로드 했으니 굳이\n",
    "\n",
    "print(\"Model donwload at:\", model_local_path) # 내가 쓸 model 다운로드"
   ]
  },
  {
   "cell_type": "code",
   "execution_count": 6,
   "id": "bd446aff",
   "metadata": {},
   "outputs": [],
   "source": [
    "from transformers import AutoModelForCausalLM, AutoTokenizer\n",
    "\n",
    "tokenizer = AutoTokenizer.from_pretrained(model_local_path)\n",
    "model = AutoModelForCausalLM.from_pretrained(model_local_path)"
   ]
  },
  {
   "cell_type": "code",
   "execution_count": 7,
   "id": "6a9044dc",
   "metadata": {},
   "outputs": [
    {
     "name": "stdout",
     "output_type": "stream",
     "text": [
      "저는 Google에서 훈련한 대규모 언어 모델인 Gemma입니다.<end_of_turn>\n"
     ]
    }
   ],
   "source": [
    "text = input()\n",
    "\n",
    "messages = [\n",
    "    {\"role\" : \"user\", \"content\" : text},\n",
    "]\n",
    "\n",
    "inputs = tokenizer.apply_chat_template(\n",
    "\tmessages,\n",
    "\tadd_generation_prompt=True,\n",
    "\ttokenize=True,\n",
    "\treturn_dict=True,\n",
    "\treturn_tensors=\"pt\",\n",
    ").to(model.device)\n",
    "\n",
    "outputs = model.generate(**inputs, max_new_tokens=40)\n",
    "print(tokenizer.decode(outputs[0][inputs[\"input_ids\"].shape[-1]:]))"
   ]
  },
  {
   "cell_type": "code",
   "execution_count": null,
   "id": "a8c38703",
   "metadata": {},
   "outputs": [],
   "source": []
  }
 ],
 "metadata": {
  "kernelspec": {
   "display_name": "foru",
   "language": "python",
   "name": "python3"
  },
  "language_info": {
   "codemirror_mode": {
    "name": "ipython",
    "version": 3
   },
   "file_extension": ".py",
   "mimetype": "text/x-python",
   "name": "python",
   "nbconvert_exporter": "python",
   "pygments_lexer": "ipython3",
   "version": "3.11.9"
  }
 },
 "nbformat": 4,
 "nbformat_minor": 5
}
